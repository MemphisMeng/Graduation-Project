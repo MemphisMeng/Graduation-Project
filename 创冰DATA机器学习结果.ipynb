{
 "cells": [
  {
   "cell_type": "code",
   "execution_count": 1,
   "metadata": {},
   "outputs": [],
   "source": [
    "import warnings\n",
    "warnings.filterwarnings('ignore')"
   ]
  },
  {
   "cell_type": "code",
   "execution_count": 2,
   "metadata": {},
   "outputs": [],
   "source": [
    "import sklearn\n",
    "import pandas as pd"
   ]
  },
  {
   "cell_type": "code",
   "execution_count": 3,
   "metadata": {},
   "outputs": [
    {
     "data": {
      "text/plain": [
       "pandas.core.frame.DataFrame"
      ]
     },
     "execution_count": 3,
     "metadata": {},
     "output_type": "execute_result"
    }
   ],
   "source": [
    "data_table = pd.read_csv(r'player_performance.csv')\n",
    "type(data_table)"
   ]
  },
  {
   "cell_type": "code",
   "execution_count": 4,
   "metadata": {},
   "outputs": [
    {
     "data": {
      "text/plain": [
       "(33022, 35)"
      ]
     },
     "execution_count": 4,
     "metadata": {},
     "output_type": "execute_result"
    }
   ],
   "source": [
    "data_table.shape"
   ]
  },
  {
   "cell_type": "code",
   "execution_count": 5,
   "metadata": {},
   "outputs": [
    {
     "name": "stdout",
     "output_type": "stream",
     "text": [
      "<class 'pandas.core.frame.DataFrame'>\n",
      "RangeIndex: 33022 entries, 0 to 33021\n",
      "Data columns (total 35 columns):\n",
      "assists              33022 non-null int64\n",
      "back_passes          33022 non-null int64\n",
      "blocked_passes       33022 non-null int64\n",
      "blocked_shots        33022 non-null int64\n",
      "clearances           33022 non-null int64\n",
      "crosses              33022 non-null int64\n",
      "diagonal_passes      33022 non-null int64\n",
      "dribbles             33022 non-null int64\n",
      "fouls                33022 non-null int64\n",
      "foulsconceded        33022 non-null int64\n",
      "goals                33022 non-null int64\n",
      "id                   33022 non-null int64\n",
      "interceptions        33022 non-null int64\n",
      "key_passes           33022 non-null int64\n",
      "lateral_passes       33022 non-null int64\n",
      "long_passes          33022 non-null int64\n",
      "minutesPlayed        33022 non-null int64\n",
      "name                 32997 non-null object\n",
      "offsides             33022 non-null int64\n",
      "passes               33022 non-null int64\n",
      "position             32997 non-null object\n",
      "possession_time      33022 non-null int64\n",
      "red_cards            33022 non-null int64\n",
      "saves                33022 non-null int64\n",
      "season               33022 non-null int64\n",
      "short_passes         33022 non-null int64\n",
      "shots                33022 non-null int64\n",
      "shots_on_target      33022 non-null int64\n",
      "succ_long_passes     33022 non-null int64\n",
      "succ_passes          33022 non-null int64\n",
      "succ_short_passes    33022 non-null int64\n",
      "tackles              33022 non-null int64\n",
      "through_passes       33022 non-null int64\n",
      "touches              33022 non-null int64\n",
      "yellow_cards         33022 non-null int64\n",
      "dtypes: int64(33), object(2)\n",
      "memory usage: 8.8+ MB\n"
     ]
    }
   ],
   "source": [
    "data_table.info()"
   ]
  },
  {
   "cell_type": "code",
   "execution_count": 6,
   "metadata": {},
   "outputs": [
    {
     "data": {
      "text/plain": [
       "assists               0\n",
       "back_passes           0\n",
       "blocked_passes        0\n",
       "blocked_shots         0\n",
       "clearances            0\n",
       "crosses               0\n",
       "diagonal_passes       0\n",
       "dribbles              0\n",
       "fouls                 0\n",
       "foulsconceded         0\n",
       "goals                 0\n",
       "id                    0\n",
       "interceptions         0\n",
       "key_passes            0\n",
       "lateral_passes        0\n",
       "long_passes           0\n",
       "minutesPlayed         0\n",
       "name                 25\n",
       "offsides              0\n",
       "passes                0\n",
       "position             25\n",
       "possession_time       0\n",
       "red_cards             0\n",
       "saves                 0\n",
       "season                0\n",
       "short_passes          0\n",
       "shots                 0\n",
       "shots_on_target       0\n",
       "succ_long_passes      0\n",
       "succ_passes           0\n",
       "succ_short_passes     0\n",
       "tackles               0\n",
       "through_passes        0\n",
       "touches               0\n",
       "yellow_cards          0\n",
       "dtype: int64"
      ]
     },
     "execution_count": 6,
     "metadata": {},
     "output_type": "execute_result"
    }
   ],
   "source": [
    "data_table.isnull().sum()"
   ]
  },
  {
   "cell_type": "code",
   "execution_count": 7,
   "metadata": {},
   "outputs": [],
   "source": [
    "def Mean(arr):\n",
    "    return arr.mean()\n",
    "\n",
    "dataset = data_table.groupby(['id', 'season']).agg(Mean)"
   ]
  },
  {
   "cell_type": "code",
   "execution_count": 8,
   "metadata": {},
   "outputs": [
    {
     "data": {
      "text/html": [
       "<div>\n",
       "<style scoped>\n",
       "    .dataframe tbody tr th:only-of-type {\n",
       "        vertical-align: middle;\n",
       "    }\n",
       "\n",
       "    .dataframe tbody tr th {\n",
       "        vertical-align: top;\n",
       "    }\n",
       "\n",
       "    .dataframe thead th {\n",
       "        text-align: right;\n",
       "    }\n",
       "</style>\n",
       "<table border=\"1\" class=\"dataframe\">\n",
       "  <thead>\n",
       "    <tr style=\"text-align: right;\">\n",
       "      <th></th>\n",
       "      <th></th>\n",
       "      <th>assists</th>\n",
       "      <th>back_passes</th>\n",
       "      <th>blocked_passes</th>\n",
       "      <th>blocked_shots</th>\n",
       "      <th>clearances</th>\n",
       "      <th>crosses</th>\n",
       "      <th>diagonal_passes</th>\n",
       "      <th>dribbles</th>\n",
       "      <th>fouls</th>\n",
       "      <th>foulsconceded</th>\n",
       "      <th>...</th>\n",
       "      <th>short_passes</th>\n",
       "      <th>shots</th>\n",
       "      <th>shots_on_target</th>\n",
       "      <th>succ_long_passes</th>\n",
       "      <th>succ_passes</th>\n",
       "      <th>succ_short_passes</th>\n",
       "      <th>tackles</th>\n",
       "      <th>through_passes</th>\n",
       "      <th>touches</th>\n",
       "      <th>yellow_cards</th>\n",
       "    </tr>\n",
       "    <tr>\n",
       "      <th>id</th>\n",
       "      <th>season</th>\n",
       "      <th></th>\n",
       "      <th></th>\n",
       "      <th></th>\n",
       "      <th></th>\n",
       "      <th></th>\n",
       "      <th></th>\n",
       "      <th></th>\n",
       "      <th></th>\n",
       "      <th></th>\n",
       "      <th></th>\n",
       "      <th></th>\n",
       "      <th></th>\n",
       "      <th></th>\n",
       "      <th></th>\n",
       "      <th></th>\n",
       "      <th></th>\n",
       "      <th></th>\n",
       "      <th></th>\n",
       "      <th></th>\n",
       "      <th></th>\n",
       "      <th></th>\n",
       "    </tr>\n",
       "  </thead>\n",
       "  <tbody>\n",
       "    <tr>\n",
       "      <th rowspan=\"5\" valign=\"top\">1002</th>\n",
       "      <th>2014</th>\n",
       "      <td>0.0</td>\n",
       "      <td>0.000000</td>\n",
       "      <td>0.0</td>\n",
       "      <td>0.000000</td>\n",
       "      <td>1.038462</td>\n",
       "      <td>0.0</td>\n",
       "      <td>9.423077</td>\n",
       "      <td>0.000000</td>\n",
       "      <td>0.000000</td>\n",
       "      <td>0.076923</td>\n",
       "      <td>...</td>\n",
       "      <td>10.500000</td>\n",
       "      <td>0.0</td>\n",
       "      <td>0.0</td>\n",
       "      <td>1.269231</td>\n",
       "      <td>11.269231</td>\n",
       "      <td>10.000000</td>\n",
       "      <td>0.000000</td>\n",
       "      <td>2.461538</td>\n",
       "      <td>7.692308</td>\n",
       "      <td>0.000000</td>\n",
       "    </tr>\n",
       "    <tr>\n",
       "      <th>2015</th>\n",
       "      <td>0.0</td>\n",
       "      <td>0.040000</td>\n",
       "      <td>0.0</td>\n",
       "      <td>0.000000</td>\n",
       "      <td>0.280000</td>\n",
       "      <td>0.0</td>\n",
       "      <td>8.080000</td>\n",
       "      <td>0.000000</td>\n",
       "      <td>0.000000</td>\n",
       "      <td>0.080000</td>\n",
       "      <td>...</td>\n",
       "      <td>9.200000</td>\n",
       "      <td>0.0</td>\n",
       "      <td>0.0</td>\n",
       "      <td>1.560000</td>\n",
       "      <td>10.320000</td>\n",
       "      <td>8.760000</td>\n",
       "      <td>0.000000</td>\n",
       "      <td>2.440000</td>\n",
       "      <td>7.480000</td>\n",
       "      <td>0.040000</td>\n",
       "    </tr>\n",
       "    <tr>\n",
       "      <th>2016</th>\n",
       "      <td>0.0</td>\n",
       "      <td>0.000000</td>\n",
       "      <td>0.0</td>\n",
       "      <td>0.000000</td>\n",
       "      <td>0.130435</td>\n",
       "      <td>0.0</td>\n",
       "      <td>8.478261</td>\n",
       "      <td>0.043478</td>\n",
       "      <td>0.000000</td>\n",
       "      <td>0.086957</td>\n",
       "      <td>...</td>\n",
       "      <td>7.217391</td>\n",
       "      <td>0.0</td>\n",
       "      <td>0.0</td>\n",
       "      <td>2.217391</td>\n",
       "      <td>9.347826</td>\n",
       "      <td>7.130435</td>\n",
       "      <td>0.043478</td>\n",
       "      <td>2.565217</td>\n",
       "      <td>6.826087</td>\n",
       "      <td>0.043478</td>\n",
       "    </tr>\n",
       "    <tr>\n",
       "      <th>2017</th>\n",
       "      <td>0.0</td>\n",
       "      <td>0.000000</td>\n",
       "      <td>0.0</td>\n",
       "      <td>0.000000</td>\n",
       "      <td>0.172414</td>\n",
       "      <td>0.0</td>\n",
       "      <td>7.931034</td>\n",
       "      <td>0.000000</td>\n",
       "      <td>0.000000</td>\n",
       "      <td>0.103448</td>\n",
       "      <td>...</td>\n",
       "      <td>6.103448</td>\n",
       "      <td>0.0</td>\n",
       "      <td>0.0</td>\n",
       "      <td>3.482759</td>\n",
       "      <td>9.241379</td>\n",
       "      <td>5.758621</td>\n",
       "      <td>0.034483</td>\n",
       "      <td>4.413793</td>\n",
       "      <td>6.551724</td>\n",
       "      <td>0.034483</td>\n",
       "    </tr>\n",
       "    <tr>\n",
       "      <th>2018</th>\n",
       "      <td>0.0</td>\n",
       "      <td>0.037037</td>\n",
       "      <td>0.0</td>\n",
       "      <td>0.000000</td>\n",
       "      <td>0.814815</td>\n",
       "      <td>0.0</td>\n",
       "      <td>10.000000</td>\n",
       "      <td>0.000000</td>\n",
       "      <td>0.037037</td>\n",
       "      <td>0.111111</td>\n",
       "      <td>...</td>\n",
       "      <td>7.925926</td>\n",
       "      <td>0.0</td>\n",
       "      <td>0.0</td>\n",
       "      <td>2.925926</td>\n",
       "      <td>10.555556</td>\n",
       "      <td>7.629630</td>\n",
       "      <td>0.037037</td>\n",
       "      <td>3.000000</td>\n",
       "      <td>8.037037</td>\n",
       "      <td>0.111111</td>\n",
       "    </tr>\n",
       "    <tr>\n",
       "      <th rowspan=\"5\" valign=\"top\">1003</th>\n",
       "      <th>2014</th>\n",
       "      <td>0.0</td>\n",
       "      <td>0.000000</td>\n",
       "      <td>0.0</td>\n",
       "      <td>0.000000</td>\n",
       "      <td>0.500000</td>\n",
       "      <td>0.0</td>\n",
       "      <td>7.750000</td>\n",
       "      <td>0.000000</td>\n",
       "      <td>0.000000</td>\n",
       "      <td>0.250000</td>\n",
       "      <td>...</td>\n",
       "      <td>9.500000</td>\n",
       "      <td>0.0</td>\n",
       "      <td>0.0</td>\n",
       "      <td>0.750000</td>\n",
       "      <td>10.000000</td>\n",
       "      <td>9.250000</td>\n",
       "      <td>0.000000</td>\n",
       "      <td>3.000000</td>\n",
       "      <td>7.750000</td>\n",
       "      <td>0.000000</td>\n",
       "    </tr>\n",
       "    <tr>\n",
       "      <th>2015</th>\n",
       "      <td>0.0</td>\n",
       "      <td>0.000000</td>\n",
       "      <td>0.0</td>\n",
       "      <td>0.000000</td>\n",
       "      <td>0.200000</td>\n",
       "      <td>0.0</td>\n",
       "      <td>8.600000</td>\n",
       "      <td>0.000000</td>\n",
       "      <td>0.000000</td>\n",
       "      <td>0.200000</td>\n",
       "      <td>...</td>\n",
       "      <td>10.000000</td>\n",
       "      <td>0.0</td>\n",
       "      <td>0.0</td>\n",
       "      <td>0.400000</td>\n",
       "      <td>10.000000</td>\n",
       "      <td>9.600000</td>\n",
       "      <td>0.000000</td>\n",
       "      <td>1.800000</td>\n",
       "      <td>6.800000</td>\n",
       "      <td>0.000000</td>\n",
       "    </tr>\n",
       "    <tr>\n",
       "      <th>2016</th>\n",
       "      <td>0.0</td>\n",
       "      <td>0.000000</td>\n",
       "      <td>0.0</td>\n",
       "      <td>0.000000</td>\n",
       "      <td>0.206897</td>\n",
       "      <td>0.0</td>\n",
       "      <td>8.551724</td>\n",
       "      <td>0.000000</td>\n",
       "      <td>0.000000</td>\n",
       "      <td>0.241379</td>\n",
       "      <td>...</td>\n",
       "      <td>6.000000</td>\n",
       "      <td>0.0</td>\n",
       "      <td>0.0</td>\n",
       "      <td>3.551724</td>\n",
       "      <td>9.241379</td>\n",
       "      <td>5.689655</td>\n",
       "      <td>0.000000</td>\n",
       "      <td>4.551724</td>\n",
       "      <td>6.172414</td>\n",
       "      <td>0.034483</td>\n",
       "    </tr>\n",
       "    <tr>\n",
       "      <th>2017</th>\n",
       "      <td>0.0</td>\n",
       "      <td>0.000000</td>\n",
       "      <td>0.0</td>\n",
       "      <td>0.000000</td>\n",
       "      <td>0.222222</td>\n",
       "      <td>0.0</td>\n",
       "      <td>7.074074</td>\n",
       "      <td>0.000000</td>\n",
       "      <td>0.037037</td>\n",
       "      <td>0.037037</td>\n",
       "      <td>...</td>\n",
       "      <td>4.296296</td>\n",
       "      <td>0.0</td>\n",
       "      <td>0.0</td>\n",
       "      <td>2.111111</td>\n",
       "      <td>6.185185</td>\n",
       "      <td>4.074074</td>\n",
       "      <td>0.037037</td>\n",
       "      <td>3.555556</td>\n",
       "      <td>4.592593</td>\n",
       "      <td>0.037037</td>\n",
       "    </tr>\n",
       "    <tr>\n",
       "      <th>2018</th>\n",
       "      <td>0.0</td>\n",
       "      <td>0.038462</td>\n",
       "      <td>0.0</td>\n",
       "      <td>0.038462</td>\n",
       "      <td>1.423077</td>\n",
       "      <td>0.0</td>\n",
       "      <td>6.923077</td>\n",
       "      <td>0.000000</td>\n",
       "      <td>0.000000</td>\n",
       "      <td>0.076923</td>\n",
       "      <td>...</td>\n",
       "      <td>5.384615</td>\n",
       "      <td>0.0</td>\n",
       "      <td>0.0</td>\n",
       "      <td>3.000000</td>\n",
       "      <td>8.038462</td>\n",
       "      <td>5.038462</td>\n",
       "      <td>0.038462</td>\n",
       "      <td>4.615385</td>\n",
       "      <td>4.192308</td>\n",
       "      <td>0.076923</td>\n",
       "    </tr>\n",
       "  </tbody>\n",
       "</table>\n",
       "<p>10 rows × 31 columns</p>\n",
       "</div>"
      ],
      "text/plain": [
       "             assists  back_passes  blocked_passes  blocked_shots  clearances  \\\n",
       "id   season                                                                    \n",
       "1002 2014        0.0     0.000000             0.0       0.000000    1.038462   \n",
       "     2015        0.0     0.040000             0.0       0.000000    0.280000   \n",
       "     2016        0.0     0.000000             0.0       0.000000    0.130435   \n",
       "     2017        0.0     0.000000             0.0       0.000000    0.172414   \n",
       "     2018        0.0     0.037037             0.0       0.000000    0.814815   \n",
       "1003 2014        0.0     0.000000             0.0       0.000000    0.500000   \n",
       "     2015        0.0     0.000000             0.0       0.000000    0.200000   \n",
       "     2016        0.0     0.000000             0.0       0.000000    0.206897   \n",
       "     2017        0.0     0.000000             0.0       0.000000    0.222222   \n",
       "     2018        0.0     0.038462             0.0       0.038462    1.423077   \n",
       "\n",
       "             crosses  diagonal_passes  dribbles     fouls  foulsconceded  \\\n",
       "id   season                                                                \n",
       "1002 2014        0.0         9.423077  0.000000  0.000000       0.076923   \n",
       "     2015        0.0         8.080000  0.000000  0.000000       0.080000   \n",
       "     2016        0.0         8.478261  0.043478  0.000000       0.086957   \n",
       "     2017        0.0         7.931034  0.000000  0.000000       0.103448   \n",
       "     2018        0.0        10.000000  0.000000  0.037037       0.111111   \n",
       "1003 2014        0.0         7.750000  0.000000  0.000000       0.250000   \n",
       "     2015        0.0         8.600000  0.000000  0.000000       0.200000   \n",
       "     2016        0.0         8.551724  0.000000  0.000000       0.241379   \n",
       "     2017        0.0         7.074074  0.000000  0.037037       0.037037   \n",
       "     2018        0.0         6.923077  0.000000  0.000000       0.076923   \n",
       "\n",
       "                 ...       short_passes  shots  shots_on_target  \\\n",
       "id   season      ...                                              \n",
       "1002 2014        ...          10.500000    0.0              0.0   \n",
       "     2015        ...           9.200000    0.0              0.0   \n",
       "     2016        ...           7.217391    0.0              0.0   \n",
       "     2017        ...           6.103448    0.0              0.0   \n",
       "     2018        ...           7.925926    0.0              0.0   \n",
       "1003 2014        ...           9.500000    0.0              0.0   \n",
       "     2015        ...          10.000000    0.0              0.0   \n",
       "     2016        ...           6.000000    0.0              0.0   \n",
       "     2017        ...           4.296296    0.0              0.0   \n",
       "     2018        ...           5.384615    0.0              0.0   \n",
       "\n",
       "             succ_long_passes  succ_passes  succ_short_passes   tackles  \\\n",
       "id   season                                                               \n",
       "1002 2014            1.269231    11.269231          10.000000  0.000000   \n",
       "     2015            1.560000    10.320000           8.760000  0.000000   \n",
       "     2016            2.217391     9.347826           7.130435  0.043478   \n",
       "     2017            3.482759     9.241379           5.758621  0.034483   \n",
       "     2018            2.925926    10.555556           7.629630  0.037037   \n",
       "1003 2014            0.750000    10.000000           9.250000  0.000000   \n",
       "     2015            0.400000    10.000000           9.600000  0.000000   \n",
       "     2016            3.551724     9.241379           5.689655  0.000000   \n",
       "     2017            2.111111     6.185185           4.074074  0.037037   \n",
       "     2018            3.000000     8.038462           5.038462  0.038462   \n",
       "\n",
       "             through_passes   touches  yellow_cards  \n",
       "id   season                                          \n",
       "1002 2014          2.461538  7.692308      0.000000  \n",
       "     2015          2.440000  7.480000      0.040000  \n",
       "     2016          2.565217  6.826087      0.043478  \n",
       "     2017          4.413793  6.551724      0.034483  \n",
       "     2018          3.000000  8.037037      0.111111  \n",
       "1003 2014          3.000000  7.750000      0.000000  \n",
       "     2015          1.800000  6.800000      0.000000  \n",
       "     2016          4.551724  6.172414      0.034483  \n",
       "     2017          3.555556  4.592593      0.037037  \n",
       "     2018          4.615385  4.192308      0.076923  \n",
       "\n",
       "[10 rows x 31 columns]"
      ]
     },
     "execution_count": 8,
     "metadata": {},
     "output_type": "execute_result"
    }
   ],
   "source": [
    "dataset.head(10)"
   ]
  },
  {
   "cell_type": "code",
   "execution_count": 9,
   "metadata": {},
   "outputs": [
    {
     "name": "stdout",
     "output_type": "stream",
     "text": [
      "assists\n",
      "back_passes\n",
      "blocked_passes\n",
      "blocked_shots\n",
      "clearances\n",
      "crosses\n",
      "diagonal_passes\n",
      "dribbles\n",
      "fouls\n",
      "foulsconceded\n",
      "goals\n",
      "interceptions\n",
      "key_passes\n",
      "lateral_passes\n",
      "long_passes\n",
      "minutesPlayed\n",
      "offsides\n",
      "passes\n",
      "possession_time\n",
      "red_cards\n",
      "saves\n",
      "short_passes\n",
      "shots\n",
      "shots_on_target\n",
      "succ_long_passes\n",
      "succ_passes\n",
      "succ_short_passes\n",
      "tackles\n",
      "through_passes\n",
      "touches\n",
      "yellow_cards\n"
     ]
    }
   ],
   "source": [
    "for i in dataset:\n",
    "    print(i)"
   ]
  },
  {
   "cell_type": "code",
   "execution_count": 11,
   "metadata": {},
   "outputs": [
    {
     "data": {
      "text/plain": [
       "Text(0,0.5,'Count')"
      ]
     },
     "execution_count": 11,
     "metadata": {},
     "output_type": "execute_result"
    },
    {
     "data": {
      "image/png": "[encoded data removed]",
      "text/plain": [
       "<Figure size 432x288 with 1 Axes>"
      ]
     },
     "metadata": {},
     "output_type": "display_data"
    }
   ],
   "source": [
    "import matplotlib.pyplot as plt\n",
    "\n",
    "plt.hist(dataset.dropna()['goals'], bins=100)\n",
    "plt.xlabel('Goals')\n",
    "plt.ylabel('Count')"
   ]
  },
  {
   "cell_type": "code",
   "execution_count": 14,
   "metadata": {},
   "outputs": [
    {
     "data": {
      "text/plain": [
       "id     season\n",
       "1002   2014      (-0.003, 0.03]\n",
       "       2015      (-0.003, 0.03]\n",
       "       2016      (-0.003, 0.03]\n",
       "       2017      (-0.003, 0.03]\n",
       "       2018      (-0.003, 0.03]\n",
       "1003   2014      (-0.003, 0.03]\n",
       "       2015      (-0.003, 0.03]\n",
       "       2016      (-0.003, 0.03]\n",
       "       2017      (-0.003, 0.03]\n",
       "       2018      (-0.003, 0.03]\n",
       "1005   2014      (-0.003, 0.03]\n",
       "       2015      (-0.003, 0.03]\n",
       "       2016         (0.03, 3.0]\n",
       "       2017      (-0.003, 0.03]\n",
       "       2018      (-0.003, 0.03]\n",
       "1006   2014         (0.03, 3.0]\n",
       "       2015      (-0.003, 0.03]\n",
       "       2016      (-0.003, 0.03]\n",
       "       2017      (-0.003, 0.03]\n",
       "       2018      (-0.003, 0.03]\n",
       "1007   2014         (0.03, 3.0]\n",
       "       2015         (0.03, 3.0]\n",
       "       2016      (-0.003, 0.03]\n",
       "       2017         (0.03, 3.0]\n",
       "       2018      (-0.003, 0.03]\n",
       "1008   2014      (-0.003, 0.03]\n",
       "       2015         (0.03, 3.0]\n",
       "       2016      (-0.003, 0.03]\n",
       "       2017         (0.03, 3.0]\n",
       "       2018      (-0.003, 0.03]\n",
       "                      ...      \n",
       "21753  2018      (-0.003, 0.03]\n",
       "21755  2018      (-0.003, 0.03]\n",
       "21761  2018      (-0.003, 0.03]\n",
       "21764  2018      (-0.003, 0.03]\n",
       "21766  2018         (0.03, 3.0]\n",
       "21768  2018         (0.03, 3.0]\n",
       "21770  2018      (-0.003, 0.03]\n",
       "21774  2018      (-0.003, 0.03]\n",
       "21775  2018      (-0.003, 0.03]\n",
       "21778  2018      (-0.003, 0.03]\n",
       "21779  2018         (0.03, 3.0]\n",
       "21780  2018      (-0.003, 0.03]\n",
       "21783  2018      (-0.003, 0.03]\n",
       "21784  2018      (-0.003, 0.03]\n",
       "21785  2018      (-0.003, 0.03]\n",
       "21786  2018      (-0.003, 0.03]\n",
       "21787  2018         (0.03, 3.0]\n",
       "21789  2018      (-0.003, 0.03]\n",
       "22149  2018      (-0.003, 0.03]\n",
       "22251  2018      (-0.003, 0.03]\n",
       "22254  2018      (-0.003, 0.03]\n",
       "22260  2018         (0.03, 3.0]\n",
       "22592  2018         (0.03, 3.0]\n",
       "22836  2018         (0.03, 3.0]\n",
       "22837  2018         (0.03, 3.0]\n",
       "22838  2018         (0.03, 3.0]\n",
       "22840  2018         (0.03, 3.0]\n",
       "22841  2018         (0.03, 3.0]\n",
       "23010  2018      (-0.003, 0.03]\n",
       "23540  2018      (-0.003, 0.03]\n",
       "Name: binary_goals, Length: 2122, dtype: category\n",
       "Categories (2, interval[float64]): [(-0.003, 0.03] < (0.03, 3.0]]"
      ]
     },
     "execution_count": 14,
     "metadata": {},
     "output_type": "execute_result"
    }
   ],
   "source": [
    "dataset['binary_goals'] = pd.cut(dataset['goals'],bins=[-0.003,0.03,3.00])\n",
    "dataset['binary_goals']"
   ]
  },
  {
   "cell_type": "code",
   "execution_count": 15,
   "metadata": {},
   "outputs": [],
   "source": [
    "from sklearn.preprocessing import LabelEncoder\n",
    "\n",
    "label_encode = LabelEncoder()"
   ]
  },
  {
   "cell_type": "code",
   "execution_count": 16,
   "metadata": {},
   "outputs": [],
   "source": [
    "dataset['goal_code'] = label_encode.fit_transform(dataset['binary_goals'].astype(str))"
   ]
  },
  {
   "cell_type": "code",
   "execution_count": 17,
   "metadata": {},
   "outputs": [
    {
     "data": {
      "text/plain": [
       "id     season\n",
       "1002   2014      0\n",
       "       2015      0\n",
       "       2016      0\n",
       "       2017      0\n",
       "       2018      0\n",
       "1003   2014      0\n",
       "       2015      0\n",
       "       2016      0\n",
       "       2017      0\n",
       "       2018      0\n",
       "1005   2014      0\n",
       "       2015      0\n",
       "       2016      1\n",
       "       2017      0\n",
       "       2018      0\n",
       "1006   2014      1\n",
       "       2015      0\n",
       "       2016      0\n",
       "       2017      0\n",
       "       2018      0\n",
       "1007   2014      1\n",
       "       2015      1\n",
       "       2016      0\n",
       "       2017      1\n",
       "       2018      0\n",
       "1008   2014      0\n",
       "       2015      1\n",
       "       2016      0\n",
       "       2017      1\n",
       "       2018      0\n",
       "                ..\n",
       "21753  2018      0\n",
       "21755  2018      0\n",
       "21761  2018      0\n",
       "21764  2018      0\n",
       "21766  2018      1\n",
       "21768  2018      1\n",
       "21770  2018      0\n",
       "21774  2018      0\n",
       "21775  2018      0\n",
       "21778  2018      0\n",
       "21779  2018      1\n",
       "21780  2018      0\n",
       "21783  2018      0\n",
       "21784  2018      0\n",
       "21785  2018      0\n",
       "21786  2018      0\n",
       "21787  2018      1\n",
       "21789  2018      0\n",
       "22149  2018      0\n",
       "22251  2018      0\n",
       "22254  2018      0\n",
       "22260  2018      1\n",
       "22592  2018      1\n",
       "22836  2018      1\n",
       "22837  2018      1\n",
       "22838  2018      1\n",
       "22840  2018      1\n",
       "22841  2018      1\n",
       "23010  2018      0\n",
       "23540  2018      0\n",
       "Name: goal_code, Length: 2122, dtype: int64"
      ]
     },
     "execution_count": 17,
     "metadata": {},
     "output_type": "execute_result"
    }
   ],
   "source": [
    "dataset['goal_code']"
   ]
  },
  {
   "cell_type": "code",
   "execution_count": 30,
   "metadata": {},
   "outputs": [],
   "source": [
    "dataset.to_csv('D:\\\\coded_performance.csv',sep=',',header=True,index=True)"
   ]
  },
  {
   "cell_type": "code",
   "execution_count": 18,
   "metadata": {},
   "outputs": [
    {
     "data": {
      "text/plain": [
       "<matplotlib.axes._subplots.AxesSubplot at 0x1b69f3ed710>"
      ]
     },
     "execution_count": 18,
     "metadata": {},
     "output_type": "execute_result"
    },
    {
     "data": {
      "image/png": "[encoded data removed]",
      "text/plain": [
       "<Figure size 432x288 with 2 Axes>"
      ]
     },
     "metadata": {},
     "output_type": "display_data"
    }
   ],
   "source": [
    "import seaborn as sns\n",
    "\n",
    "features = ['back_passes','diagonal_passes','lateral_passes','long_passes','short_passes','succ_long_passes','succ_passes',\\\n",
    "            'succ_short_passes','through_passes']\n",
    "\n",
    "sns.heatmap(dataset[features].corr(),annot = True,cmap = 'cubehelix_r')"
   ]
  },
  {
   "cell_type": "code",
   "execution_count": 19,
   "metadata": {},
   "outputs": [
    {
     "name": "stdout",
     "output_type": "stream",
     "text": [
      "assists\n",
      "back_passes\n",
      "blocked_passes\n",
      "blocked_shots\n",
      "clearances\n",
      "crosses\n",
      "diagonal_passes\n",
      "dribbles\n",
      "fouls\n",
      "foulsconceded\n",
      "goals\n",
      "interceptions\n",
      "key_passes\n",
      "lateral_passes\n",
      "long_passes\n",
      "minutesPlayed\n",
      "offsides\n",
      "passes\n",
      "possession_time\n",
      "red_cards\n",
      "saves\n",
      "short_passes\n",
      "shots\n",
      "shots_on_target\n",
      "succ_long_passes\n",
      "succ_passes\n",
      "succ_short_passes\n",
      "tackles\n",
      "through_passes\n",
      "touches\n",
      "yellow_cards\n",
      "binary_goals\n",
      "goal_code\n"
     ]
    }
   ],
   "source": [
    "for i in dataset:\n",
    "    print(i)"
   ]
  },
  {
   "cell_type": "code",
   "execution_count": 33,
   "metadata": {},
   "outputs": [
    {
     "name": "stdout",
     "output_type": "stream",
     "text": [
      "[8.92026566e-01 5.93938839e-02 3.96230605e-02 5.42420713e-03\n",
      " 8.45205222e-04 7.16210050e-04 4.13901726e-04 2.87051199e-04\n",
      " 2.47142740e-04]\n"
     ]
    }
   ],
   "source": [
    "from sklearn.decomposition import PCA\n",
    "\n",
    "pca = PCA(n_components=9)\n",
    "pca_data = pca.fit_transform(dataset.drop(['binary_goals','goal_code'],axis=1))\n",
    "print(pca.explained_variance_ratio_)"
   ]
  },
  {
   "cell_type": "code",
   "execution_count": 34,
   "metadata": {},
   "outputs": [
    {
     "data": {
      "text/plain": [
       "array([[ 8.75468925e+00,  3.35098863e+01, -1.01914131e+01, ...,\n",
       "         3.16526050e-01,  7.60540986e-01,  1.18150405e+00],\n",
       "       [-1.39686806e-01,  3.36414376e+01, -1.42160324e+01, ...,\n",
       "        -4.37164270e-01,  5.02973233e-02,  3.75847145e-01],\n",
       "       [ 1.89058370e+01,  3.98781470e+01, -1.69012325e+00, ...,\n",
       "        -1.76717525e+00, -6.67426252e-02, -1.79357418e-01],\n",
       "       ...,\n",
       "       [ 1.43993431e+00,  1.01580411e+01, -1.60369930e+01, ...,\n",
       "         2.12607642e+00,  6.58151639e-01,  1.56971455e+00],\n",
       "       [-1.11889210e+02, -1.14756529e+01,  1.68591220e+01, ...,\n",
       "        -3.38553182e-01, -1.18970384e-01,  8.75146132e-01],\n",
       "       [-7.81126433e+01,  6.76837478e-01, -1.00227694e+01, ...,\n",
       "        -8.21537884e-01,  1.10148890e-01,  3.40918262e-01]])"
      ]
     },
     "execution_count": 34,
     "metadata": {},
     "output_type": "execute_result"
    }
   ],
   "source": [
    "# pca_data = pd.DataFrame(pca_data)\n",
    "# pca_data.to_csv('D:\\\\PCA_player_performance.csv',sep=',',header=True,index=True)\n",
    "\n",
    "pca_data"
   ]
  },
  {
   "cell_type": "code",
   "execution_count": 59,
   "metadata": {},
   "outputs": [
    {
     "ename": "PermissionError",
     "evalue": "[Errno 13] Permission denied: 'D:\\\\average_performance.csv'",
     "output_type": "error",
     "traceback": [
      "\u001b[1;31m---------------------------------------------------------------------------\u001b[0m",
      "\u001b[1;31mPermissionError\u001b[0m                           Traceback (most recent call last)",
      "\u001b[1;32m<ipython-input-59-d195a7e4f1be>\u001b[0m in \u001b[0;36m<module>\u001b[1;34m()\u001b[0m\n\u001b[1;32m----> 1\u001b[1;33m \u001b[0mdataset\u001b[0m\u001b[1;33m.\u001b[0m\u001b[0mto_csv\u001b[0m\u001b[1;33m(\u001b[0m\u001b[1;34m'D:\\\\average_performance.csv'\u001b[0m\u001b[1;33m,\u001b[0m \u001b[0msep\u001b[0m\u001b[1;33m=\u001b[0m\u001b[1;34m','\u001b[0m\u001b[1;33m,\u001b[0m \u001b[0mheader\u001b[0m\u001b[1;33m=\u001b[0m\u001b[1;32mTrue\u001b[0m\u001b[1;33m,\u001b[0m \u001b[0mindex\u001b[0m\u001b[1;33m=\u001b[0m\u001b[1;32mTrue\u001b[0m\u001b[1;33m)\u001b[0m\u001b[1;33m\u001b[0m\u001b[0m\n\u001b[0m",
      "\u001b[1;32m~\\Anaconda3\\lib\\site-packages\\pandas\\core\\frame.py\u001b[0m in \u001b[0;36mto_csv\u001b[1;34m(self, path_or_buf, sep, na_rep, float_format, columns, header, index, index_label, mode, encoding, compression, quoting, quotechar, line_terminator, chunksize, tupleize_cols, date_format, doublequote, escapechar, decimal)\u001b[0m\n\u001b[0;32m   1743\u001b[0m                                  \u001b[0mdoublequote\u001b[0m\u001b[1;33m=\u001b[0m\u001b[0mdoublequote\u001b[0m\u001b[1;33m,\u001b[0m\u001b[1;33m\u001b[0m\u001b[0m\n\u001b[0;32m   1744\u001b[0m                                  escapechar=escapechar, decimal=decimal)\n\u001b[1;32m-> 1745\u001b[1;33m         \u001b[0mformatter\u001b[0m\u001b[1;33m.\u001b[0m\u001b[0msave\u001b[0m\u001b[1;33m(\u001b[0m\u001b[1;33m)\u001b[0m\u001b[1;33m\u001b[0m\u001b[0m\n\u001b[0m\u001b[0;32m   1746\u001b[0m \u001b[1;33m\u001b[0m\u001b[0m\n\u001b[0;32m   1747\u001b[0m         \u001b[1;32mif\u001b[0m \u001b[0mpath_or_buf\u001b[0m \u001b[1;32mis\u001b[0m \u001b[1;32mNone\u001b[0m\u001b[1;33m:\u001b[0m\u001b[1;33m\u001b[0m\u001b[0m\n",
      "\u001b[1;32m~\\Anaconda3\\lib\\site-packages\\pandas\\io\\formats\\csvs.py\u001b[0m in \u001b[0;36msave\u001b[1;34m(self)\u001b[0m\n\u001b[0;32m    134\u001b[0m             f, handles = _get_handle(self.path_or_buf, self.mode,\n\u001b[0;32m    135\u001b[0m                                      \u001b[0mencoding\u001b[0m\u001b[1;33m=\u001b[0m\u001b[0mencoding\u001b[0m\u001b[1;33m,\u001b[0m\u001b[1;33m\u001b[0m\u001b[0m\n\u001b[1;32m--> 136\u001b[1;33m                                      compression=None)\n\u001b[0m\u001b[0;32m    137\u001b[0m             \u001b[0mclose\u001b[0m \u001b[1;33m=\u001b[0m \u001b[1;32mTrue\u001b[0m \u001b[1;32mif\u001b[0m \u001b[0mself\u001b[0m\u001b[1;33m.\u001b[0m\u001b[0mcompression\u001b[0m \u001b[1;32mis\u001b[0m \u001b[1;32mNone\u001b[0m \u001b[1;32melse\u001b[0m \u001b[1;32mFalse\u001b[0m\u001b[1;33m\u001b[0m\u001b[0m\n\u001b[0;32m    138\u001b[0m \u001b[1;33m\u001b[0m\u001b[0m\n",
      "\u001b[1;32m~\\Anaconda3\\lib\\site-packages\\pandas\\io\\common.py\u001b[0m in \u001b[0;36m_get_handle\u001b[1;34m(path_or_buf, mode, encoding, compression, memory_map, is_text)\u001b[0m\n\u001b[0;32m    398\u001b[0m         \u001b[1;32melif\u001b[0m \u001b[0mencoding\u001b[0m\u001b[1;33m:\u001b[0m\u001b[1;33m\u001b[0m\u001b[0m\n\u001b[0;32m    399\u001b[0m             \u001b[1;31m# Python 3 and encoding\u001b[0m\u001b[1;33m\u001b[0m\u001b[1;33m\u001b[0m\u001b[0m\n\u001b[1;32m--> 400\u001b[1;33m             \u001b[0mf\u001b[0m \u001b[1;33m=\u001b[0m \u001b[0mopen\u001b[0m\u001b[1;33m(\u001b[0m\u001b[0mpath_or_buf\u001b[0m\u001b[1;33m,\u001b[0m \u001b[0mmode\u001b[0m\u001b[1;33m,\u001b[0m \u001b[0mencoding\u001b[0m\u001b[1;33m=\u001b[0m\u001b[0mencoding\u001b[0m\u001b[1;33m)\u001b[0m\u001b[1;33m\u001b[0m\u001b[0m\n\u001b[0m\u001b[0;32m    401\u001b[0m         \u001b[1;32melif\u001b[0m \u001b[0mis_text\u001b[0m\u001b[1;33m:\u001b[0m\u001b[1;33m\u001b[0m\u001b[0m\n\u001b[0;32m    402\u001b[0m             \u001b[1;31m# Python 3 and no explicit encoding\u001b[0m\u001b[1;33m\u001b[0m\u001b[1;33m\u001b[0m\u001b[0m\n",
      "\u001b[1;31mPermissionError\u001b[0m: [Errno 13] Permission denied: 'D:\\\\average_performance.csv'"
     ]
    }
   ],
   "source": [
    "dataset.to_csv('D:\\\\average_performance.csv', sep=',', header=True, index=True)"
   ]
  },
  {
   "cell_type": "code",
   "execution_count": 38,
   "metadata": {},
   "outputs": [],
   "source": [
    "import matplotlib.pyplot as plt"
   ]
  },
  {
   "cell_type": "code",
   "execution_count": 35,
   "metadata": {},
   "outputs": [],
   "source": [
    "data_2014 = pd.read_csv(r'data_2014.csv')\n",
    "data_2015 = pd.read_csv(r'data_2015.csv')\n",
    "data_2016 = pd.read_csv(r'data_2016.csv')\n",
    "data_2017 = pd.read_csv(r'data_2017.csv')\n",
    "data_2018 = pd.read_csv(r'data_2018.csv')"
   ]
  },
  {
   "cell_type": "code",
   "execution_count": 36,
   "metadata": {},
   "outputs": [],
   "source": [
    "data_2014 = data_2014.drop(['season'],axis = 1)\n",
    "data_2015 = data_2015.drop(['season'],axis = 1)\n",
    "data_2016 = data_2016.drop(['season'],axis = 1)\n",
    "data_2017 = data_2017.drop(['season'],axis = 1)\n",
    "data_2018 = data_2018.drop(['season'],axis = 1)"
   ]
  },
  {
   "cell_type": "code",
   "execution_count": 37,
   "metadata": {},
   "outputs": [],
   "source": [
    "data_2014 = data_2014.set_index(['id'])\n",
    "data_2015 = data_2015.set_index(['id'])\n",
    "data_2016 = data_2016.set_index(['id'])\n",
    "data_2017 = data_2017.set_index(['id'])\n",
    "data_2018 = data_2018.set_index(['id'])"
   ]
  },
  {
   "cell_type": "code",
   "execution_count": 39,
   "metadata": {},
   "outputs": [],
   "source": [
    "from sklearn.neighbors import KNeighborsClassifier\n",
    "from sklearn.linear_model import LogisticRegression\n",
    "from sklearn.tree import DecisionTreeClassifier\n",
    "from sklearn.ensemble import RandomForestClassifier"
   ]
  },
  {
   "cell_type": "code",
   "execution_count": 45,
   "metadata": {},
   "outputs": [],
   "source": [
    "x_2014 = data_2014.drop(['goal_code'],axis=1)\n",
    "y_2014 = data_2014['goal_code']\n",
    "\n",
    "x_2015 = data_2015.drop(['goal_code'],axis=1)\n",
    "y_2015 = data_2015['goal_code']\n",
    "\n",
    "x_2016 = data_2016.drop(['goal_code'],axis=1)\n",
    "y_2016 = data_2016['goal_code']\n",
    "\n",
    "x_2017 = data_2017.drop(['goal_code'],axis=1)\n",
    "y_2017 = data_2017['goal_code']\n",
    "\n",
    "x_2018 = data_2018.drop(['goal_code'],axis=1)\n",
    "y_2018 = data_2018['goal_code']"
   ]
  },
  {
   "cell_type": "code",
   "execution_count": 41,
   "metadata": {},
   "outputs": [],
   "source": [
    "knn = KNeighborsClassifier()\n",
    "logr = LogisticRegression()\n",
    "dtree = DecisionTreeClassifier()\n",
    "rf = RandomForestClassifier()"
   ]
  },
  {
   "cell_type": "code",
   "execution_count": 49,
   "metadata": {},
   "outputs": [],
   "source": [
    "from sklearn.model_selection import KFold\n",
    "\n",
    "def CVKFold(k,X,y,Model):\n",
    "    np.random.seed(1)\n",
    "    #reproducibility\n",
    "    \n",
    "    train_accuracy = [0 for i in range(k)]\n",
    "    test_accuracy = [0 for i in range(k)]\n",
    "    #accuracy scores\n",
    "    \n",
    "    idx = 0\n",
    "    #index\n",
    "    \n",
    "    kf = KFold(n_splits = k,shuffle =True)\n",
    "    #CV loop\n",
    "    \n",
    "    for train_index,test_index in kf.split(X):#generation of the sets\n",
    "    #generate the sets    \n",
    "        X_train,X_test = X.iloc[train_index],X.iloc[test_index]\n",
    "        y_train,y_test = y.iloc[train_index],y.iloc[test_index]\n",
    "        \n",
    "        if Model == 'knn':\n",
    "            clf = KNeighborsClassifier()\n",
    "        if Model == 'logr':\n",
    "            clf = LogisticRegression(random_state = 0)\n",
    "        if Model == 'dtree':\n",
    "            clf = DecisionTreeClassifier(random_state = 0)\n",
    "        if Model == 'rf':\n",
    "            clf = RandomForestClassifier(random_state = 0)\n",
    "    \n",
    "        #model fitting\n",
    "        clf = clf.fit(X_train,y_train)\n",
    "        y_train_pred = clf.predict(X_train)\n",
    "        y_test_pred = clf.predict(X_test)\n",
    "    \n",
    "        train_accuracy[idx] = np.mean(y_train_pred == y_train)\n",
    "        test_accuracy[idx] = np.mean(y_test_pred == y_test)\n",
    "        idx += 1\n",
    "    \n",
    "    return train_accuracy,test_accuracy"
   ]
  },
  {
   "cell_type": "code",
   "execution_count": 72,
   "metadata": {},
   "outputs": [],
   "source": [
    "import numpy as np\n",
    "\n",
    "models = ['knn', 'logr', 'dtree', 'rf']\n",
    "\n",
    "# 新建2个空列表，其中1个用来存放训练集准确率，另外1个存放\n",
    "# 测试集准确率\n",
    "train = []\n",
    "test = []"
   ]
  },
  {
   "cell_type": "code",
   "execution_count": 75,
   "metadata": {},
   "outputs": [
    {
     "name": "stdout",
     "output_type": "stream",
     "text": [
      "knn模型的训练与测试准确率分别为\n",
      "0.793689079915495 0.6506387921022067\n",
      "logr模型的训练与测试准确率分别为\n",
      "0.7766992059444889 0.7574332171893147\n",
      "dtree模型的训练与测试准确率分别为\n",
      "1.0 0.6891986062717769\n",
      "rf模型的训练与测试准确率分别为\n",
      "0.9840904786187805 0.7472706155632984\n"
     ]
    }
   ],
   "source": [
    "# 2014赛季数据\n",
    "for model in models:\n",
    "    train_acc,test_acc = CVKFold(10,x_2014,y_2014,model)\n",
    "    print(model + '模型的训练与测试准确率分别为')\n",
    "    print(np.mean(train_acc),np.mean(test_acc))\n",
    "    train.append(np.mean(train_acc))\n",
    "    test.append(np.mean(test_acc))"
   ]
  },
  {
   "cell_type": "code",
   "execution_count": 76,
   "metadata": {},
   "outputs": [
    {
     "name": "stdout",
     "output_type": "stream",
     "text": [
      "knn模型的训练与测试准确率分别为\n",
      "0.800418695887446 0.6908084163898117\n",
      "logr模型的训练与测试准确率分别为\n",
      "0.7746557088744589 0.7706533776301219\n",
      "dtree模型的训练与测试准确率分别为\n",
      "1.0 0.6911406423034331\n",
      "rf模型的训练与测试准确率分别为\n",
      "0.982303841991342 0.7096899224806201\n"
     ]
    }
   ],
   "source": [
    "# 2015赛季数据\n",
    "for model in models:\n",
    "    train_acc,test_acc = CVKFold(10,x_2015,y_2015,model)\n",
    "    print(model + '模型的训练与测试准确率分别为')\n",
    "    print(np.mean(train_acc),np.mean(test_acc))\n",
    "    train.append(np.mean(train_acc))\n",
    "    test.append(np.mean(test_acc))"
   ]
  },
  {
   "cell_type": "code",
   "execution_count": 77,
   "metadata": {},
   "outputs": [
    {
     "name": "stdout",
     "output_type": "stream",
     "text": [
      "knn模型的训练与测试准确率分别为\n",
      "0.8010067736185382 0.7303716608594657\n",
      "logr模型的训练与测试准确率分别为\n",
      "0.7857910873440286 0.7738675958188153\n",
      "dtree模型的训练与测试准确率分别为\n",
      "1.0 0.7092915214866434\n",
      "rf模型的训练与测试准确率分别为\n",
      "0.9863814616755793 0.7692218350754936\n"
     ]
    }
   ],
   "source": [
    "# 2016赛季数据\n",
    "for model in models:\n",
    "    train_acc,test_acc = CVKFold(10,x_2016,y_2016,model)\n",
    "    print(model + '模型的训练与测试准确率分别为')\n",
    "    print(np.mean(train_acc),np.mean(test_acc))\n",
    "    train.append(np.mean(train_acc))\n",
    "    test.append(np.mean(test_acc))"
   ]
  },
  {
   "cell_type": "code",
   "execution_count": 78,
   "metadata": {},
   "outputs": [
    {
     "name": "stdout",
     "output_type": "stream",
     "text": [
      "knn模型的训练与测试准确率分别为\n",
      "0.8134366925064601 0.7395348837209301\n",
      "logr模型的训练与测试准确率分别为\n",
      "0.7478036175710594 0.7348837209302326\n",
      "dtree模型的训练与测试准确率分别为\n",
      "1.0 0.6953488372093023\n",
      "rf模型的训练与测试准确率分别为\n",
      "0.9834625322997417 0.7162790697674419\n"
     ]
    }
   ],
   "source": [
    "# 2017赛季数据\n",
    "for model in models:\n",
    "    train_acc,test_acc = CVKFold(10,x_2017,y_2017,model)\n",
    "    print(model + '模型的训练与测试准确率分别为')\n",
    "    print(np.mean(train_acc),np.mean(test_acc))\n",
    "    train.append(np.mean(train_acc))\n",
    "    test.append(np.mean(test_acc))"
   ]
  },
  {
   "cell_type": "code",
   "execution_count": 81,
   "metadata": {},
   "outputs": [],
   "source": [
    "knn_train = []\n",
    "logr_train = []\n",
    "dtree_train = []\n",
    "rf_train = []\n",
    "\n",
    "knn_test = []\n",
    "logr_test = []\n",
    "dtree_test = []\n",
    "rf_test = []\n",
    "\n",
    "for i in range(4):\n",
    "    knn_train.append(train[4*i])\n",
    "    logr_train.append(train[4*i+1])\n",
    "    dtree_train.append(train[4*i+2])\n",
    "    rf_train.append(train[4*i+3])\n",
    "    \n",
    "    knn_test.append(test[4*i])\n",
    "    logr_test.append(test[4*i+1])\n",
    "    dtree_test.append(test[4*i+2])\n",
    "    rf_test.append(test[4*i+3])"
   ]
  },
  {
   "cell_type": "code",
   "execution_count": 86,
   "metadata": {},
   "outputs": [],
   "source": [
    "avg_knn_train_acc = (knn_train[0]+knn_train[1]+knn_train[2]\\\n",
    "+knn_train[3])/4\n",
    "avg_knn_test_acc = (knn_test[0]+knn_test[1]+knn_test[2]\\\n",
    "+knn_test[3])/4\n",
    "\n",
    "avg_logr_train_acc = (logr_train[0]+logr_train[1]+logr_train[2]\\\n",
    "+logr_train[3])/4\n",
    "avg_logr_test_acc = (logr_test[0]+logr_test[1]+logr_test[2]\\\n",
    "+logr_test[3])/4\n",
    "\n",
    "avg_dtree_train_acc = (dtree_train[0]+dtree_train[1]+dtree_train[2]\\\n",
    "+dtree_train[3])/4\n",
    "avg_dtree_test_acc = (dtree_test[0]+dtree_test[1]+dtree_test[2]\\\n",
    "+dtree_test[3])/4\n",
    "\n",
    "avg_rf_train_acc = (rf_train[0]+rf_train[1]+rf_train[2]\\\n",
    "+rf_train[3])/4\n",
    "avg_rf_test_acc = (rf_test[0]+rf_test[1]+rf_test[2]\\\n",
    "+rf_test[3])/4"
   ]
  },
  {
   "cell_type": "code",
   "execution_count": 88,
   "metadata": {},
   "outputs": [
    {
     "name": "stdout",
     "output_type": "stream",
     "text": [
      "KNN的训练准确率以及测试准确率分别为\n",
      "0.8021378104819848 0.7028384382681035\n",
      "\n",
      "逻辑回归的训练准确率以及测试准确率分别为\n",
      "0.7712374049335089 0.759209477892121\n",
      "\n",
      "决策树的训练准确率以及测试准确率分别为\n",
      "1.0 0.696244901817789\n",
      "\n",
      "随机森林的训练准确率以及测试准确率分别为\n",
      "0.9840595786463608 0.7356153607217135\n"
     ]
    }
   ],
   "source": [
    "print('KNN的训练准确率以及测试准确率分别为')\n",
    "print(avg_knn_train_acc,avg_knn_test_acc)\n",
    "\n",
    "print('\\n逻辑回归的训练准确率以及测试准确率分别为')\n",
    "print(avg_logr_train_acc,avg_logr_test_acc)\n",
    "\n",
    "print('\\n决策树的训练准确率以及测试准确率分别为')\n",
    "print(avg_dtree_train_acc,avg_dtree_test_acc)\n",
    "\n",
    "print('\\n随机森林的训练准确率以及测试准确率分别为')\n",
    "print(avg_rf_train_acc,avg_rf_test_acc)"
   ]
  },
  {
   "cell_type": "code",
   "execution_count": 89,
   "metadata": {},
   "outputs": [],
   "source": [
    "from sklearn.model_selection import RandomizedSearchCV, GridSearchCV"
   ]
  },
  {
   "cell_type": "code",
   "execution_count": null,
   "metadata": {},
   "outputs": [],
   "source": [
    "param_grid = {\n",
    "    'max_depth':[],\n",
    "    'max_features':[1,2,3,4,5,6,7,8,9],  # 最多只有9个指标\n",
    "    'min_samples_split':[2,5,10],\n",
    "    'n_estimators':[10,20,50]\n",
    "}"
   ]
  }
 ],
 "metadata": {
  "kernelspec": {
   "display_name": "Python 3",
   "language": "python",
   "name": "python3"
  },
  "language_info": {
   "codemirror_mode": {
    "name": "ipython",
    "version": 3
   },
   "file_extension": ".py",
   "mimetype": "text/x-python",
   "name": "python",
   "nbconvert_exporter": "python",
   "pygments_lexer": "ipython3",
   "version": "3.6.5"
  }
 },
 "nbformat": 4,
 "nbformat_minor": 2
}
